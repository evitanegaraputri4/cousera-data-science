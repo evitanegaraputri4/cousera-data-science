{
 "cells": [
  {
   "cell_type": "markdown",
   "id": "21df27a4-eaee-4544-9b3a-ca72a1a59ac2",
   "metadata": {},
   "source": [
    "# Data Science Tools and Ecosystem\n"
   ]
  },
  {
   "cell_type": "markdown",
   "id": "36074391-ef7b-470e-afe8-badb36e1b4e0",
   "metadata": {},
   "source": [
    "## Introduction\n",
    "This notebook provides an overview of essential tools and concepts in data science, including  libraries, and tools.\n"
   ]
  },
  {
   "cell_type": "markdown",
   "id": "aaac4057-c127-4e0b-a2a8-488934ab06ac",
   "metadata": {},
   "source": [
    "## Data Science Languages\n",
    "The most commonly used languages in Data Science include:\n",
    "- Python\n",
    "- R\n",
    "- SQL\n",
    "- Julia\n",
    "- Java\n"
   ]
  },
  {
   "cell_type": "markdown",
   "id": "766232a7-70e9-49ff-ba57-df9fa015f1ce",
   "metadata": {},
   "source": [
    "## Data Science Libraries\n",
    "Here are some popular libraries used in Data Science:\n",
    "- Pandas\n",
    "- NumPy\n",
    "- Matplotlib\n",
    "- TensorFlow\n",
    "- Scikit-learn\n"
   ]
  },
  {
   "cell_type": "markdown",
   "id": "29aa3c03-d6f7-4f98-a44a-7ed83d1def13",
   "metadata": {},
   "source": [
    "## Data Science Tools\n",
    "| Tool           | Description                        |\n",
    "|----------------|------------------------------------|\n",
    "| Jupyter Notebook | An open-source web application for creating and sharing documents that contain live code, equations, and visualizations. |\n",
    "| RStudio        | An integrated development environment for R. |\n",
    "| Apache Spark   | An analytics engine for big data processing, with built-in modules for streaming, SQL, machine learning, and graph processing. |\n"
   ]
  },
  {
   "cell_type": "markdown",
   "id": "28d1343b-2764-4955-8fdd-51c12a1e0665",
   "metadata": {},
   "source": [
    "## Examples of Arithmetic Expressions\n",
    "This section demonstrates simple arithmetic operations like addition and multiplication.\n"
   ]
  },
  {
   "cell_type": "code",
   "execution_count": 4,
   "id": "3fcc3ae6-fafd-4444-805f-4d762e6d165d",
   "metadata": {},
   "outputs": [
    {
     "data": {
      "text/plain": [
       "17"
      ]
     },
     "execution_count": 4,
     "metadata": {},
     "output_type": "execute_result"
    }
   ],
   "source": [
    "# Multiplying and adding numbers\n",
    "(3 * 4) + 5\n"
   ]
  },
  {
   "cell_type": "code",
   "execution_count": 5,
   "id": "1321b9e9-b14c-4657-a9bf-6706b70448f8",
   "metadata": {},
   "outputs": [
    {
     "data": {
      "text/plain": [
       "3.3333333333333335"
      ]
     },
     "execution_count": 5,
     "metadata": {},
     "output_type": "execute_result"
    }
   ],
   "source": [
    "# Converting 200 minutes to hours\n",
    "minutes = 200\n",
    "hours = minutes / 60\n",
    "hours\n"
   ]
  },
  {
   "cell_type": "markdown",
   "id": "23bbcf50-48c3-42f5-83c3-27ceab3c5cb8",
   "metadata": {},
   "source": [
    "## Objectives\n",
    "The objectives of this notebook are:\n",
    "- List popular data science languages\n",
    "- List commonly used data science libraries\n",
    "- Demonstrate basic arithmetic expressions\n",
    "- Showcase some common data science tools\n"
   ]
  },
  {
   "cell_type": "markdown",
   "id": "297fd3e7-ff21-4bf1-adc9-76a5c70e63d6",
   "metadata": {},
   "source": [
    "## Author\n",
    "Evita\n"
   ]
  }
 ],
 "metadata": {
  "kernelspec": {
   "display_name": "Python 3 (ipykernel)",
   "language": "python",
   "name": "python3"
  },
  "language_info": {
   "codemirror_mode": {
    "name": "ipython",
    "version": 3
   },
   "file_extension": ".py",
   "mimetype": "text/x-python",
   "name": "python",
   "nbconvert_exporter": "python",
   "pygments_lexer": "ipython3",
   "version": "3.11.5"
  }
 },
 "nbformat": 4,
 "nbformat_minor": 5
}
